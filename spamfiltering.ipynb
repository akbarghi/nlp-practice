{
 "cells": [
  {
   "cell_type": "code",
   "execution_count": 1,
   "metadata": {},
   "outputs": [
    {
     "name": "stdout",
     "output_type": "stream",
     "text": [
      "        v1                                                 v2\n",
      "0      ham  Go until jurong point, crazy.. Available only ...\n",
      "1      ham                      Ok lar... Joking wif u oni...\n",
      "2     spam  Free entry in 2 a wkly comp to win FA Cup fina...\n",
      "3      ham  U dun say so early hor... U c already then say...\n",
      "4      ham  Nah I don't think he goes to usf, he lives aro...\n",
      "...    ...                                                ...\n",
      "5567  spam  This is the 2nd time we have tried 2 contact u...\n",
      "5568   ham              Will Ì_ b going to esplanade fr home?\n",
      "5569   ham  Pity, * was in mood for that. So...any other s...\n",
      "5570   ham  The guy did some bitching but I acted like i'd...\n",
      "5571   ham                         Rofl. Its true to its name\n",
      "\n",
      "[5572 rows x 2 columns]\n"
     ]
    }
   ],
   "source": [
    "import pandas as pd\n",
    "\n",
    "#importing csv\n",
    "df1 = pd.read_csv(\"spam.csv\", encoding='latin-1')\n",
    "#database cleaning\n",
    "df1 = df1.loc[:, \"v1\":\"v2\"]\n",
    "\n",
    "print(df1)"
   ]
  },
  {
   "cell_type": "code",
   "execution_count": 2,
   "metadata": {},
   "outputs": [
    {
     "ename": "ModuleNotFoundError",
     "evalue": "No module named 'stemmer'",
     "output_type": "error",
     "traceback": [
      "\u001b[1;31m---------------------------------------------------------------------------\u001b[0m",
      "\u001b[1;31mModuleNotFoundError\u001b[0m                       Traceback (most recent call last)",
      "\u001b[1;32m<ipython-input-2-d0fdaaee3799>\u001b[0m in \u001b[0;36m<module>\u001b[1;34m\u001b[0m\n\u001b[1;32m----> 1\u001b[1;33m \u001b[1;32mimport\u001b[0m \u001b[0mtextmining\u001b[0m \u001b[1;32mas\u001b[0m \u001b[0mtm\u001b[0m\u001b[1;33m\u001b[0m\u001b[1;33m\u001b[0m\u001b[0m\n\u001b[0m\u001b[0;32m      2\u001b[0m \u001b[1;33m\u001b[0m\u001b[0m\n\u001b[0;32m      3\u001b[0m \u001b[0msms_corpus\u001b[0m \u001b[1;33m=\u001b[0m \u001b[0mCorpus\u001b[0m\u001b[1;33m(\u001b[0m\u001b[0mVectorSource\u001b[0m\u001b[1;33m(\u001b[0m\u001b[0mdf1\u001b[0m\u001b[1;33m)\u001b[0m\u001b[1;33m)\u001b[0m\u001b[1;33m\u001b[0m\u001b[1;33m\u001b[0m\u001b[0m\n\u001b[0;32m      4\u001b[0m \u001b[0mprint\u001b[0m\u001b[1;33m(\u001b[0m\u001b[0msms_corpus\u001b[0m\u001b[1;33m)\u001b[0m\u001b[1;33m\u001b[0m\u001b[1;33m\u001b[0m\u001b[0m\n\u001b[0;32m      5\u001b[0m \u001b[1;33m\u001b[0m\u001b[0m\n",
      "\u001b[1;32mc:\\users\\user\\appdata\\local\\programs\\python\\python37\\lib\\site-packages\\textmining\\__init__.py\u001b[0m in \u001b[0;36m<module>\u001b[1;34m\u001b[0m\n\u001b[0;32m      1\u001b[0m \u001b[1;32mimport\u001b[0m \u001b[0mre\u001b[0m\u001b[1;33m\u001b[0m\u001b[1;33m\u001b[0m\u001b[0m\n\u001b[1;32m----> 2\u001b[1;33m \u001b[1;32mimport\u001b[0m \u001b[0mstemmer\u001b[0m\u001b[1;33m\u001b[0m\u001b[1;33m\u001b[0m\u001b[0m\n\u001b[0m\u001b[0;32m      3\u001b[0m \u001b[1;32mimport\u001b[0m \u001b[0mcsv\u001b[0m\u001b[1;33m\u001b[0m\u001b[1;33m\u001b[0m\u001b[0m\n\u001b[0;32m      4\u001b[0m \u001b[1;32mimport\u001b[0m \u001b[0mos\u001b[0m\u001b[1;33m\u001b[0m\u001b[1;33m\u001b[0m\u001b[0m\n\u001b[0;32m      5\u001b[0m \u001b[1;33m\u001b[0m\u001b[0m\n",
      "\u001b[1;31mModuleNotFoundError\u001b[0m: No module named 'stemmer'"
     ]
    }
   ],
   "source": [
    "import textmining as tm\n",
    "\n",
    "sms_corpus = Corpus(VectorSource(df1))\n",
    "print(sms_corpus)\n",
    "\n",
    "inspect(sms_corpus[1:3])\n",
    "\n",
    "#ubah ke lowercase\n",
    "clean_corpus = tm_map(sms_corpus, tolower)\n",
    "#remove numbers\n",
    "clean_corpus = tm_map(clean_corpus, removeNumbers)\n",
    "#remove punctuation\n",
    "clean_corpus = tm_map(clean_corpus, removePunctuation)\n",
    "\n",
    "#remove stopwords\n",
    "clean_corpus = tm_map(clean_corpus, removeWords, stopwords())\n",
    "#strip white space\n",
    "clean_corpus = tm_map(clean_corpus, stripWhitespace)\n",
    "\n",
    "inspect(clean_corpus[1:3])"
   ]
  },
  {
   "cell_type": "code",
   "execution_count": 50,
   "metadata": {},
   "outputs": [
    {
     "ename": "NameError",
     "evalue": "name 'DocumentTermMatrix' is not defined",
     "output_type": "error",
     "traceback": [
      "\u001b[1;31m---------------------------------------------------------------------------\u001b[0m",
      "\u001b[1;31mNameError\u001b[0m                                 Traceback (most recent call last)",
      "\u001b[1;32m<ipython-input-50-b05e90abd37a>\u001b[0m in \u001b[0;36m<module>\u001b[1;34m\u001b[0m\n\u001b[0;32m      1\u001b[0m \u001b[1;31m#tokenize corpus\u001b[0m\u001b[1;33m\u001b[0m\u001b[1;33m\u001b[0m\u001b[1;33m\u001b[0m\u001b[0m\n\u001b[0;32m      2\u001b[0m \u001b[1;33m\u001b[0m\u001b[0m\n\u001b[1;32m----> 3\u001b[1;33m \u001b[0msms_dtm\u001b[0m \u001b[1;33m=\u001b[0m \u001b[0mDocumentTermMatrix\u001b[0m\u001b[1;33m(\u001b[0m\u001b[0mclean_corpus\u001b[0m\u001b[1;33m)\u001b[0m\u001b[1;33m\u001b[0m\u001b[1;33m\u001b[0m\u001b[0m\n\u001b[0m\u001b[0;32m      4\u001b[0m \u001b[0minspect\u001b[0m\u001b[1;33m(\u001b[0m\u001b[0msms_dtm\u001b[0m\u001b[1;33m[\u001b[0m\u001b[1;36m1\u001b[0m\u001b[1;33m:\u001b[0m\u001b[1;36m4\u001b[0m\u001b[1;33m,\u001b[0m \u001b[1;36m30\u001b[0m\u001b[1;33m:\u001b[0m\u001b[1;36m35\u001b[0m\u001b[1;33m]\u001b[0m\u001b[1;33m)\u001b[0m\u001b[1;33m\u001b[0m\u001b[1;33m\u001b[0m\u001b[0m\n",
      "\u001b[1;31mNameError\u001b[0m: name 'DocumentTermMatrix' is not defined"
     ]
    }
   ],
   "source": [
    "#tokenize corpus\n",
    "\n",
    "sms_dtm = DocumentTermMatrix(clean_corpus)\n",
    "inspect(sms_dtm[1:4, 30:35])\n",
    "\n",
    "#from nltk.tokenize import word_tokenize\n",
    "\n",
    "#clean_df['tokenized_sents'] = clean_df.apply(lambda row: nltk.word_tokenize(row['v2']), axis=1)"
   ]
  },
  {
   "cell_type": "code",
   "execution_count": 30,
   "metadata": {},
   "outputs": [
    {
     "name": "stderr",
     "output_type": "stream",
     "text": [
      "c:\\users\\user\\appdata\\local\\programs\\python\\python37\\lib\\site-packages\\ipykernel_launcher.py:3: SettingWithCopyWarning: \n",
      "A value is trying to be set on a copy of a slice from a DataFrame.\n",
      "Try using .loc[row_indexer,col_indexer] = value instead\n",
      "\n",
      "See the caveats in the documentation: http://pandas.pydata.org/pandas-docs/stable/user_guide/indexing.html#returning-a-view-versus-a-copy\n",
      "  This is separate from the ipykernel package so we can avoid doing imports until\n"
     ]
    }
   ],
   "source": [
    "#indice into each corpus and doc term matrix\n",
    "spam_indices <- which(sms_spam_df$type == \"spam\")\n",
    "print(spam_indices[1:3])\n",
    "\n",
    "ham_indices <- which(sms_spam_df$type == \"ham\")\n",
    "print(ham_indices[1:3])"
   ]
  },
  {
   "cell_type": "code",
   "execution_count": null,
   "metadata": {},
   "outputs": [],
   "source": [
    "#word cloud\n",
    "\n",
    "library(wordcloud)\n",
    "wordcloud(clean_corpus[ham_indices], min.freq = 40)\n",
    "wordcloud(clean_corpus[spam_indices], min.freq=40)"
   ]
  },
  {
   "cell_type": "code",
   "execution_count": 54,
   "metadata": {},
   "outputs": [
    {
     "ename": "NameError",
     "evalue": "name 'sms_raw_train' is not defined",
     "output_type": "error",
     "traceback": [
      "\u001b[1;31m---------------------------------------------------------------------------\u001b[0m",
      "\u001b[1;31mNameError\u001b[0m                                 Traceback (most recent call last)",
      "\u001b[1;32m<ipython-input-54-678250c29539>\u001b[0m in \u001b[0;36m<module>\u001b[1;34m\u001b[0m\n\u001b[1;32m----> 1\u001b[1;33m \u001b[0msms_raw_train\u001b[0m \u001b[1;33m<\u001b[0m\u001b[1;33m-\u001b[0m \u001b[0msms_spam_df\u001b[0m\u001b[1;33m[\u001b[0m\u001b[1;36m1\u001b[0m\u001b[1;33m:\u001b[0m\u001b[1;36m4169\u001b[0m\u001b[1;33m,\u001b[0m\u001b[1;33m]\u001b[0m\u001b[1;33m\u001b[0m\u001b[1;33m\u001b[0m\u001b[0m\n\u001b[0m\u001b[0;32m      2\u001b[0m \u001b[0msms_raw_test\u001b[0m \u001b[1;33m<\u001b[0m\u001b[1;33m-\u001b[0m \u001b[0msms_spam_df\u001b[0m\u001b[1;33m[\u001b[0m\u001b[1;36m4170\u001b[0m\u001b[1;33m:\u001b[0m\u001b[1;36m5559\u001b[0m\u001b[1;33m,\u001b[0m\u001b[1;33m]\u001b[0m\u001b[1;33m\u001b[0m\u001b[1;33m\u001b[0m\u001b[0m\n\u001b[0;32m      3\u001b[0m \u001b[1;33m\u001b[0m\u001b[0m\n\u001b[0;32m      4\u001b[0m \u001b[0msms_dtm_train\u001b[0m \u001b[1;33m<\u001b[0m\u001b[1;33m-\u001b[0m \u001b[0msms_dtm\u001b[0m\u001b[1;33m[\u001b[0m\u001b[1;36m1\u001b[0m\u001b[1;33m:\u001b[0m\u001b[1;36m4169\u001b[0m\u001b[1;33m,\u001b[0m\u001b[1;33m]\u001b[0m\u001b[1;33m\u001b[0m\u001b[1;33m\u001b[0m\u001b[0m\n\u001b[0;32m      5\u001b[0m \u001b[0msms_dtm_test\u001b[0m \u001b[1;33m<\u001b[0m\u001b[1;33m-\u001b[0m \u001b[0msms_dtm\u001b[0m\u001b[1;33m[\u001b[0m\u001b[1;36m4170\u001b[0m\u001b[1;33m:\u001b[0m\u001b[1;36m5559\u001b[0m\u001b[1;33m,\u001b[0m\u001b[1;33m]\u001b[0m\u001b[1;33m\u001b[0m\u001b[1;33m\u001b[0m\u001b[0m\n",
      "\u001b[1;31mNameError\u001b[0m: name 'sms_raw_train' is not defined"
     ]
    }
   ],
   "source": [
    "sms_raw_train = sms_spam_df[1:4169,]\n",
    "sms_raw_test = sms_spam_df[4170:5559,]\n",
    "\n",
    "sms_dtm_train <- sms_dtm[1:4169,]\n",
    "sms_dtm_test <- sms_dtm[4170:5559,]\n",
    "sms_corpus_train <- clean_corpus[1:4169]\n",
    "sms_corpus_test <- clean_corpus[4170:5559]\n",
    "\n",
    "spam <- subset(sms_raw_train, type == \"spam\")\n",
    "ham <- subset(sms_raw_train, type == \"ham\")\n",
    "\n",
    "\n",
    "five_times_words <- findFreqTerms(sms_dtm_train, 5)\n",
    "print(length(five_times_words))\n",
    "print(five_times_words[1:5])\n",
    "\n",
    "sms_train <- DocumentTermMatrix(sms_corpus_train, control=list(dictionary = five_times_words))\n",
    "sms_test <- DocumentTermMatrix(sms_corpus_test, control=list(dictionary = five_times_words))\n",
    "\n",
    "convert_count <- function(x) {\n",
    "  y <- ifelse(x > 0, 1,0)\n",
    "  y <- factor(y, levels=c(0,1), labels=c(\"No\", \"Yes\"))\n",
    "  y\n",
    "}\n",
    "\n",
    "sms_train <- apply(sms_train, 2, convert_count)\n",
    "sms_test <- apply(sms_test, 2, convert_count)\n",
    "\n",
    "library(e1071)\n",
    "\n",
    "sms_classifier <- naiveBayes(sms_train, factor(sms_raw_train$type))\n",
    "class(sms_classifier)\n",
    "\n",
    "sms_test_pred <- predict(sms_classifier, newdata=sms_test)\n",
    "\n",
    "table(sms_test_pred, sms_raw_test$type)"
   ]
  }
 ],
 "metadata": {
  "kernelspec": {
   "display_name": "Python 3",
   "language": "python",
   "name": "python3"
  },
  "language_info": {
   "codemirror_mode": {
    "name": "ipython",
    "version": 3
   },
   "file_extension": ".py",
   "mimetype": "text/x-python",
   "name": "python",
   "nbconvert_exporter": "python",
   "pygments_lexer": "ipython3",
   "version": "3.7.3"
  }
 },
 "nbformat": 4,
 "nbformat_minor": 2
}
